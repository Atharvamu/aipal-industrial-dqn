{
  "cells": [
    {
      "cell_type": "markdown",
      "metadata": {
        "id": "view-in-github",
        "colab_type": "text"
      },
      "source": [
        "<a href=\"https://colab.research.google.com/github/Atharvamu/aipal-industrial-dqn/blob/main/dqn_sb3.ipynb\" target=\"_parent\"><img src=\"https://colab.research.google.com/assets/colab-badge.svg\" alt=\"Open In Colab\"/></a>"
      ]
    },
    {
      "cell_type": "markdown",
      "metadata": {
        "id": "cgDiMlHXXN7V"
      },
      "source": [
        "# DQN and Double DQN\n",
        "\n",
        "Stable-Baselines3: https://github.com/DLR-RM/stable-baselines3\n",
        "\n",
        "Documentation: https://stable-baselines.readthedocs.io/en/master/\n",
        "\n",
        "\n",
        "Double Q-Learning: https://paperswithcode.com/method/double-q-learning\n",
        "\n"
      ]
    },
    {
      "cell_type": "markdown",
      "metadata": {
        "id": "StmMaKjrX6MC"
      },
      "source": [
        "## Installation\n",
        "\n",
        "We will install master version of SB3."
      ]
    },
    {
      "cell_type": "code",
      "execution_count": 1,
      "metadata": {
        "id": "0utNUW-JrY-8",
        "outputId": "0011e5de-a1b4-4bfd-c67e-b865fd6beb55",
        "colab": {
          "base_uri": "https://localhost:8080/"
        }
      },
      "outputs": [
        {
          "output_type": "stream",
          "name": "stdout",
          "text": [
            "Cloning into 'aipal-industrial-dqn'...\n",
            "remote: Enumerating objects: 6, done.\u001b[K\n",
            "remote: Counting objects: 100% (6/6), done.\u001b[K\n",
            "remote: Compressing objects: 100% (4/4), done.\u001b[K\n",
            "remote: Total 6 (delta 0), reused 0 (delta 0), pack-reused 0 (from 0)\u001b[K\n",
            "Receiving objects: 100% (6/6), 4.26 KiB | 4.26 MiB/s, done.\n",
            "/content/aipal-industrial-dqn\n"
          ]
        }
      ],
      "source": [
        "!git clone https://github.com/Atharvamu/aipal-industrial-dqn.git\n",
        "%cd aipal-industrial-dqn"
      ]
    },
    {
      "cell_type": "code",
      "execution_count": 2,
      "metadata": {
        "id": "r7yLmacAXJ0F",
        "outputId": "5fdf859b-3689-45ef-902a-f04ebc28484d",
        "colab": {
          "base_uri": "https://localhost:8080/"
        }
      },
      "outputs": [
        {
          "output_type": "stream",
          "name": "stdout",
          "text": [
            "Requirement already satisfied: gymnasium in /usr/local/lib/python3.11/dist-packages (1.1.1)\n",
            "Requirement already satisfied: matplotlib in /usr/local/lib/python3.11/dist-packages (3.10.0)\n",
            "Requirement already satisfied: pandas in /usr/local/lib/python3.11/dist-packages (2.2.2)\n",
            "Collecting stable-baselines3[extra]\n",
            "  Downloading stable_baselines3-2.6.0-py3-none-any.whl.metadata (4.8 kB)\n",
            "Requirement already satisfied: numpy<3.0,>=1.20 in /usr/local/lib/python3.11/dist-packages (from stable-baselines3[extra]) (2.0.2)\n",
            "Requirement already satisfied: torch<3.0,>=2.3 in /usr/local/lib/python3.11/dist-packages (from stable-baselines3[extra]) (2.6.0+cu124)\n",
            "Requirement already satisfied: cloudpickle in /usr/local/lib/python3.11/dist-packages (from stable-baselines3[extra]) (3.1.1)\n",
            "Requirement already satisfied: opencv-python in /usr/local/lib/python3.11/dist-packages (from stable-baselines3[extra]) (4.11.0.86)\n",
            "Requirement already satisfied: pygame in /usr/local/lib/python3.11/dist-packages (from stable-baselines3[extra]) (2.6.1)\n",
            "Requirement already satisfied: tensorboard>=2.9.1 in /usr/local/lib/python3.11/dist-packages (from stable-baselines3[extra]) (2.18.0)\n",
            "Requirement already satisfied: psutil in /usr/local/lib/python3.11/dist-packages (from stable-baselines3[extra]) (5.9.5)\n",
            "Requirement already satisfied: tqdm in /usr/local/lib/python3.11/dist-packages (from stable-baselines3[extra]) (4.67.1)\n",
            "Requirement already satisfied: rich in /usr/local/lib/python3.11/dist-packages (from stable-baselines3[extra]) (13.9.4)\n",
            "Requirement already satisfied: ale-py>=0.9.0 in /usr/local/lib/python3.11/dist-packages (from stable-baselines3[extra]) (0.11.1)\n",
            "Requirement already satisfied: pillow in /usr/local/lib/python3.11/dist-packages (from stable-baselines3[extra]) (11.2.1)\n",
            "Requirement already satisfied: typing-extensions>=4.3.0 in /usr/local/lib/python3.11/dist-packages (from gymnasium) (4.14.0)\n",
            "Requirement already satisfied: farama-notifications>=0.0.1 in /usr/local/lib/python3.11/dist-packages (from gymnasium) (0.0.4)\n",
            "Requirement already satisfied: contourpy>=1.0.1 in /usr/local/lib/python3.11/dist-packages (from matplotlib) (1.3.2)\n",
            "Requirement already satisfied: cycler>=0.10 in /usr/local/lib/python3.11/dist-packages (from matplotlib) (0.12.1)\n",
            "Requirement already satisfied: fonttools>=4.22.0 in /usr/local/lib/python3.11/dist-packages (from matplotlib) (4.58.1)\n",
            "Requirement already satisfied: kiwisolver>=1.3.1 in /usr/local/lib/python3.11/dist-packages (from matplotlib) (1.4.8)\n",
            "Requirement already satisfied: packaging>=20.0 in /usr/local/lib/python3.11/dist-packages (from matplotlib) (24.2)\n",
            "Requirement already satisfied: pyparsing>=2.3.1 in /usr/local/lib/python3.11/dist-packages (from matplotlib) (3.2.3)\n",
            "Requirement already satisfied: python-dateutil>=2.7 in /usr/local/lib/python3.11/dist-packages (from matplotlib) (2.9.0.post0)\n",
            "Requirement already satisfied: pytz>=2020.1 in /usr/local/lib/python3.11/dist-packages (from pandas) (2025.2)\n",
            "Requirement already satisfied: tzdata>=2022.7 in /usr/local/lib/python3.11/dist-packages (from pandas) (2025.2)\n",
            "Requirement already satisfied: six>=1.5 in /usr/local/lib/python3.11/dist-packages (from python-dateutil>=2.7->matplotlib) (1.17.0)\n",
            "Requirement already satisfied: absl-py>=0.4 in /usr/local/lib/python3.11/dist-packages (from tensorboard>=2.9.1->stable-baselines3[extra]) (1.4.0)\n",
            "Requirement already satisfied: grpcio>=1.48.2 in /usr/local/lib/python3.11/dist-packages (from tensorboard>=2.9.1->stable-baselines3[extra]) (1.72.1)\n",
            "Requirement already satisfied: markdown>=2.6.8 in /usr/local/lib/python3.11/dist-packages (from tensorboard>=2.9.1->stable-baselines3[extra]) (3.8)\n",
            "Requirement already satisfied: protobuf!=4.24.0,>=3.19.6 in /usr/local/lib/python3.11/dist-packages (from tensorboard>=2.9.1->stable-baselines3[extra]) (5.29.5)\n",
            "Requirement already satisfied: setuptools>=41.0.0 in /usr/local/lib/python3.11/dist-packages (from tensorboard>=2.9.1->stable-baselines3[extra]) (75.2.0)\n",
            "Requirement already satisfied: tensorboard-data-server<0.8.0,>=0.7.0 in /usr/local/lib/python3.11/dist-packages (from tensorboard>=2.9.1->stable-baselines3[extra]) (0.7.2)\n",
            "Requirement already satisfied: werkzeug>=1.0.1 in /usr/local/lib/python3.11/dist-packages (from tensorboard>=2.9.1->stable-baselines3[extra]) (3.1.3)\n",
            "Requirement already satisfied: filelock in /usr/local/lib/python3.11/dist-packages (from torch<3.0,>=2.3->stable-baselines3[extra]) (3.18.0)\n",
            "Requirement already satisfied: networkx in /usr/local/lib/python3.11/dist-packages (from torch<3.0,>=2.3->stable-baselines3[extra]) (3.5)\n",
            "Requirement already satisfied: jinja2 in /usr/local/lib/python3.11/dist-packages (from torch<3.0,>=2.3->stable-baselines3[extra]) (3.1.6)\n",
            "Requirement already satisfied: fsspec in /usr/local/lib/python3.11/dist-packages (from torch<3.0,>=2.3->stable-baselines3[extra]) (2025.3.2)\n",
            "Collecting nvidia-cuda-nvrtc-cu12==12.4.127 (from torch<3.0,>=2.3->stable-baselines3[extra])\n",
            "  Downloading nvidia_cuda_nvrtc_cu12-12.4.127-py3-none-manylinux2014_x86_64.whl.metadata (1.5 kB)\n",
            "Collecting nvidia-cuda-runtime-cu12==12.4.127 (from torch<3.0,>=2.3->stable-baselines3[extra])\n",
            "  Downloading nvidia_cuda_runtime_cu12-12.4.127-py3-none-manylinux2014_x86_64.whl.metadata (1.5 kB)\n",
            "Collecting nvidia-cuda-cupti-cu12==12.4.127 (from torch<3.0,>=2.3->stable-baselines3[extra])\n",
            "  Downloading nvidia_cuda_cupti_cu12-12.4.127-py3-none-manylinux2014_x86_64.whl.metadata (1.6 kB)\n",
            "Collecting nvidia-cudnn-cu12==9.1.0.70 (from torch<3.0,>=2.3->stable-baselines3[extra])\n",
            "  Downloading nvidia_cudnn_cu12-9.1.0.70-py3-none-manylinux2014_x86_64.whl.metadata (1.6 kB)\n",
            "Collecting nvidia-cublas-cu12==12.4.5.8 (from torch<3.0,>=2.3->stable-baselines3[extra])\n",
            "  Downloading nvidia_cublas_cu12-12.4.5.8-py3-none-manylinux2014_x86_64.whl.metadata (1.5 kB)\n",
            "Collecting nvidia-cufft-cu12==11.2.1.3 (from torch<3.0,>=2.3->stable-baselines3[extra])\n",
            "  Downloading nvidia_cufft_cu12-11.2.1.3-py3-none-manylinux2014_x86_64.whl.metadata (1.5 kB)\n",
            "Collecting nvidia-curand-cu12==10.3.5.147 (from torch<3.0,>=2.3->stable-baselines3[extra])\n",
            "  Downloading nvidia_curand_cu12-10.3.5.147-py3-none-manylinux2014_x86_64.whl.metadata (1.5 kB)\n",
            "Collecting nvidia-cusolver-cu12==11.6.1.9 (from torch<3.0,>=2.3->stable-baselines3[extra])\n",
            "  Downloading nvidia_cusolver_cu12-11.6.1.9-py3-none-manylinux2014_x86_64.whl.metadata (1.6 kB)\n",
            "Collecting nvidia-cusparse-cu12==12.3.1.170 (from torch<3.0,>=2.3->stable-baselines3[extra])\n",
            "  Downloading nvidia_cusparse_cu12-12.3.1.170-py3-none-manylinux2014_x86_64.whl.metadata (1.6 kB)\n",
            "Requirement already satisfied: nvidia-cusparselt-cu12==0.6.2 in /usr/local/lib/python3.11/dist-packages (from torch<3.0,>=2.3->stable-baselines3[extra]) (0.6.2)\n",
            "Requirement already satisfied: nvidia-nccl-cu12==2.21.5 in /usr/local/lib/python3.11/dist-packages (from torch<3.0,>=2.3->stable-baselines3[extra]) (2.21.5)\n",
            "Requirement already satisfied: nvidia-nvtx-cu12==12.4.127 in /usr/local/lib/python3.11/dist-packages (from torch<3.0,>=2.3->stable-baselines3[extra]) (12.4.127)\n",
            "Collecting nvidia-nvjitlink-cu12==12.4.127 (from torch<3.0,>=2.3->stable-baselines3[extra])\n",
            "  Downloading nvidia_nvjitlink_cu12-12.4.127-py3-none-manylinux2014_x86_64.whl.metadata (1.5 kB)\n",
            "Requirement already satisfied: triton==3.2.0 in /usr/local/lib/python3.11/dist-packages (from torch<3.0,>=2.3->stable-baselines3[extra]) (3.2.0)\n",
            "Requirement already satisfied: sympy==1.13.1 in /usr/local/lib/python3.11/dist-packages (from torch<3.0,>=2.3->stable-baselines3[extra]) (1.13.1)\n",
            "Requirement already satisfied: mpmath<1.4,>=1.1.0 in /usr/local/lib/python3.11/dist-packages (from sympy==1.13.1->torch<3.0,>=2.3->stable-baselines3[extra]) (1.3.0)\n",
            "Requirement already satisfied: markdown-it-py>=2.2.0 in /usr/local/lib/python3.11/dist-packages (from rich->stable-baselines3[extra]) (3.0.0)\n",
            "Requirement already satisfied: pygments<3.0.0,>=2.13.0 in /usr/local/lib/python3.11/dist-packages (from rich->stable-baselines3[extra]) (2.19.1)\n",
            "Requirement already satisfied: mdurl~=0.1 in /usr/local/lib/python3.11/dist-packages (from markdown-it-py>=2.2.0->rich->stable-baselines3[extra]) (0.1.2)\n",
            "Requirement already satisfied: MarkupSafe>=2.1.1 in /usr/local/lib/python3.11/dist-packages (from werkzeug>=1.0.1->tensorboard>=2.9.1->stable-baselines3[extra]) (3.0.2)\n",
            "Downloading nvidia_cublas_cu12-12.4.5.8-py3-none-manylinux2014_x86_64.whl (363.4 MB)\n",
            "\u001b[2K   \u001b[90m━━━━━━━━━━━━━━━━━━━━━━━━━━━━━━━━━━━━━━━━\u001b[0m \u001b[32m363.4/363.4 MB\u001b[0m \u001b[31m3.9 MB/s\u001b[0m eta \u001b[36m0:00:00\u001b[0m\n",
            "\u001b[?25hDownloading nvidia_cuda_cupti_cu12-12.4.127-py3-none-manylinux2014_x86_64.whl (13.8 MB)\n",
            "\u001b[2K   \u001b[90m━━━━━━━━━━━━━━━━━━━━━━━━━━━━━━━━━━━━━━━━\u001b[0m \u001b[32m13.8/13.8 MB\u001b[0m \u001b[31m70.0 MB/s\u001b[0m eta \u001b[36m0:00:00\u001b[0m\n",
            "\u001b[?25hDownloading nvidia_cuda_nvrtc_cu12-12.4.127-py3-none-manylinux2014_x86_64.whl (24.6 MB)\n",
            "\u001b[2K   \u001b[90m━━━━━━━━━━━━━━━━━━━━━━━━━━━━━━━━━━━━━━━━\u001b[0m \u001b[32m24.6/24.6 MB\u001b[0m \u001b[31m60.1 MB/s\u001b[0m eta \u001b[36m0:00:00\u001b[0m\n",
            "\u001b[?25hDownloading nvidia_cuda_runtime_cu12-12.4.127-py3-none-manylinux2014_x86_64.whl (883 kB)\n",
            "\u001b[2K   \u001b[90m━━━━━━━━━━━━━━━━━━━━━━━━━━━━━━━━━━━━━━━━\u001b[0m \u001b[32m883.7/883.7 kB\u001b[0m \u001b[31m45.1 MB/s\u001b[0m eta \u001b[36m0:00:00\u001b[0m\n",
            "\u001b[?25hDownloading nvidia_cudnn_cu12-9.1.0.70-py3-none-manylinux2014_x86_64.whl (664.8 MB)\n",
            "\u001b[2K   \u001b[90m━━━━━━━━━━━━━━━━━━━━━━━━━━━━━━━━━━━━━━━━\u001b[0m \u001b[32m664.8/664.8 MB\u001b[0m \u001b[31m2.2 MB/s\u001b[0m eta \u001b[36m0:00:00\u001b[0m\n",
            "\u001b[?25hDownloading nvidia_cufft_cu12-11.2.1.3-py3-none-manylinux2014_x86_64.whl (211.5 MB)\n",
            "\u001b[2K   \u001b[90m━━━━━━━━━━━━━━━━━━━━━━━━━━━━━━━━━━━━━━━━\u001b[0m \u001b[32m211.5/211.5 MB\u001b[0m \u001b[31m5.6 MB/s\u001b[0m eta \u001b[36m0:00:00\u001b[0m\n",
            "\u001b[?25hDownloading nvidia_curand_cu12-10.3.5.147-py3-none-manylinux2014_x86_64.whl (56.3 MB)\n",
            "\u001b[2K   \u001b[90m━━━━━━━━━━━━━━━━━━━━━━━━━━━━━━━━━━━━━━━━\u001b[0m \u001b[32m56.3/56.3 MB\u001b[0m \u001b[31m10.2 MB/s\u001b[0m eta \u001b[36m0:00:00\u001b[0m\n",
            "\u001b[?25hDownloading nvidia_cusolver_cu12-11.6.1.9-py3-none-manylinux2014_x86_64.whl (127.9 MB)\n",
            "\u001b[2K   \u001b[90m━━━━━━━━━━━━━━━━━━━━━━━━━━━━━━━━━━━━━━━━\u001b[0m \u001b[32m127.9/127.9 MB\u001b[0m \u001b[31m7.5 MB/s\u001b[0m eta \u001b[36m0:00:00\u001b[0m\n",
            "\u001b[?25hDownloading nvidia_cusparse_cu12-12.3.1.170-py3-none-manylinux2014_x86_64.whl (207.5 MB)\n",
            "\u001b[2K   \u001b[90m━━━━━━━━━━━━━━━━━━━━━━━━━━━━━━━━━━━━━━━━\u001b[0m \u001b[32m207.5/207.5 MB\u001b[0m \u001b[31m5.8 MB/s\u001b[0m eta \u001b[36m0:00:00\u001b[0m\n",
            "\u001b[?25hDownloading nvidia_nvjitlink_cu12-12.4.127-py3-none-manylinux2014_x86_64.whl (21.1 MB)\n",
            "\u001b[2K   \u001b[90m━━━━━━━━━━━━━━━━━━━━━━━━━━━━━━━━━━━━━━━━\u001b[0m \u001b[32m21.1/21.1 MB\u001b[0m \u001b[31m96.0 MB/s\u001b[0m eta \u001b[36m0:00:00\u001b[0m\n",
            "\u001b[?25hDownloading stable_baselines3-2.6.0-py3-none-any.whl (184 kB)\n",
            "\u001b[2K   \u001b[90m━━━━━━━━━━━━━━━━━━━━━━━━━━━━━━━━━━━━━━━━\u001b[0m \u001b[32m184.5/184.5 kB\u001b[0m \u001b[31m14.8 MB/s\u001b[0m eta \u001b[36m0:00:00\u001b[0m\n",
            "\u001b[?25hInstalling collected packages: nvidia-nvjitlink-cu12, nvidia-curand-cu12, nvidia-cufft-cu12, nvidia-cuda-runtime-cu12, nvidia-cuda-nvrtc-cu12, nvidia-cuda-cupti-cu12, nvidia-cublas-cu12, nvidia-cusparse-cu12, nvidia-cudnn-cu12, nvidia-cusolver-cu12, stable-baselines3\n",
            "  Attempting uninstall: nvidia-nvjitlink-cu12\n",
            "    Found existing installation: nvidia-nvjitlink-cu12 12.5.82\n",
            "    Uninstalling nvidia-nvjitlink-cu12-12.5.82:\n",
            "      Successfully uninstalled nvidia-nvjitlink-cu12-12.5.82\n",
            "  Attempting uninstall: nvidia-curand-cu12\n",
            "    Found existing installation: nvidia-curand-cu12 10.3.6.82\n",
            "    Uninstalling nvidia-curand-cu12-10.3.6.82:\n",
            "      Successfully uninstalled nvidia-curand-cu12-10.3.6.82\n",
            "  Attempting uninstall: nvidia-cufft-cu12\n",
            "    Found existing installation: nvidia-cufft-cu12 11.2.3.61\n",
            "    Uninstalling nvidia-cufft-cu12-11.2.3.61:\n",
            "      Successfully uninstalled nvidia-cufft-cu12-11.2.3.61\n",
            "  Attempting uninstall: nvidia-cuda-runtime-cu12\n",
            "    Found existing installation: nvidia-cuda-runtime-cu12 12.5.82\n",
            "    Uninstalling nvidia-cuda-runtime-cu12-12.5.82:\n",
            "      Successfully uninstalled nvidia-cuda-runtime-cu12-12.5.82\n",
            "  Attempting uninstall: nvidia-cuda-nvrtc-cu12\n",
            "    Found existing installation: nvidia-cuda-nvrtc-cu12 12.5.82\n",
            "    Uninstalling nvidia-cuda-nvrtc-cu12-12.5.82:\n",
            "      Successfully uninstalled nvidia-cuda-nvrtc-cu12-12.5.82\n",
            "  Attempting uninstall: nvidia-cuda-cupti-cu12\n",
            "    Found existing installation: nvidia-cuda-cupti-cu12 12.5.82\n",
            "    Uninstalling nvidia-cuda-cupti-cu12-12.5.82:\n",
            "      Successfully uninstalled nvidia-cuda-cupti-cu12-12.5.82\n",
            "  Attempting uninstall: nvidia-cublas-cu12\n",
            "    Found existing installation: nvidia-cublas-cu12 12.5.3.2\n",
            "    Uninstalling nvidia-cublas-cu12-12.5.3.2:\n",
            "      Successfully uninstalled nvidia-cublas-cu12-12.5.3.2\n",
            "  Attempting uninstall: nvidia-cusparse-cu12\n",
            "    Found existing installation: nvidia-cusparse-cu12 12.5.1.3\n",
            "    Uninstalling nvidia-cusparse-cu12-12.5.1.3:\n",
            "      Successfully uninstalled nvidia-cusparse-cu12-12.5.1.3\n",
            "  Attempting uninstall: nvidia-cudnn-cu12\n",
            "    Found existing installation: nvidia-cudnn-cu12 9.3.0.75\n",
            "    Uninstalling nvidia-cudnn-cu12-9.3.0.75:\n",
            "      Successfully uninstalled nvidia-cudnn-cu12-9.3.0.75\n",
            "  Attempting uninstall: nvidia-cusolver-cu12\n",
            "    Found existing installation: nvidia-cusolver-cu12 11.6.3.83\n",
            "    Uninstalling nvidia-cusolver-cu12-11.6.3.83:\n",
            "      Successfully uninstalled nvidia-cusolver-cu12-11.6.3.83\n",
            "Successfully installed nvidia-cublas-cu12-12.4.5.8 nvidia-cuda-cupti-cu12-12.4.127 nvidia-cuda-nvrtc-cu12-12.4.127 nvidia-cuda-runtime-cu12-12.4.127 nvidia-cudnn-cu12-9.1.0.70 nvidia-cufft-cu12-11.2.1.3 nvidia-curand-cu12-10.3.5.147 nvidia-cusolver-cu12-11.6.1.9 nvidia-cusparse-cu12-12.3.1.170 nvidia-nvjitlink-cu12-12.4.127 stable-baselines3-2.6.0\n"
          ]
        }
      ],
      "source": [
        "# Install necessary packages\n",
        "!pip install stable-baselines3[extra] gymnasium matplotlib pandas"
      ]
    },
    {
      "cell_type": "markdown",
      "metadata": {
        "id": "LwC8l-17YseR"
      },
      "source": [
        "Import DQN and evaluation helper"
      ]
    },
    {
      "cell_type": "code",
      "execution_count": 3,
      "metadata": {
        "id": "VYbeqK0tYenp"
      },
      "outputs": [],
      "source": [
        "import gymnasium as gym\n",
        "from industrial_env import IndustrialAutomationEnv\n",
        "from stable_baselines3 import DQN\n",
        "from stable_baselines3.common.env_checker import check_env\n",
        "import torch\n",
        "import torch.nn as nn\n",
        "import torch.optim as optim\n",
        "import numpy as np\n",
        "import matplotlib.pyplot as plt\n",
        "from collections import deque\n",
        "import random"
      ]
    },
    {
      "cell_type": "markdown",
      "metadata": {
        "id": "7xQwxJDgptxH"
      },
      "source": [
        "## 🏭 Industrial Automation Environment\n",
        "\n",
        "In this environment, the agent is responsible for maintaining a simulated industrial production system. The goal is to maximize product quality and machine health over time by tuning control parameters and scheduling maintenance effectively.\n",
        "\n",
        "\n",
        "\n",
        "\n",
        "\n",
        "\n",
        " Observation Space\n",
        "Type: Box(5,)\n",
        "Each observation is a vector of 5 continuous values:\n",
        "\n",
        "| Num | Observation            | Min | Max |\n",
        "| --- | ---------------------- | --- | --- |\n",
        "| 0   | Machine Health         | 0.0 | 1.0 |\n",
        "| 1   | Product Quality        | 0.0 | 1.0 |\n",
        "| 2   | Time Since Maintenance | 0.0 | 1.0 |\n",
        "| 3   | Control Parameter 1    | 0.0 | 1.0 |\n",
        "| 4   | Control Parameter 2    | 0.0 | 1.0 |\n",
        "\n",
        "🎮 Action Space\n",
        "Type: Discrete(6)\n",
        "\n",
        "| Num | Action                  |\n",
        "| --- | ----------------------- |\n",
        "| 0   | No Operation            |\n",
        "| 1   | Increase Control Param1 |\n",
        "| 2   | Decrease Control Param1 |\n",
        "| 3   | Increase Control Param2 |\n",
        "| 4   | Decrease Control Param2 |\n",
        "| 5   | Perform Maintenance     |\n",
        "\n",
        "\n",
        "🎯 Reward\n",
        "Reward is designed to encourage:\n",
        "\n",
        "\n",
        "*   High product quality\n",
        "*   Stable machine health\n",
        "*   Well-timed maintenance scheduling\n",
        "\n",
        "\n",
        "Bonuses are awarded for:\n",
        "\n",
        "\n",
        "*   Timely and effective maintenance\n",
        "\n",
        "\n",
        "\n",
        "Penalties are applied for:\n",
        "\n",
        "\n",
        "*   Maintenance that is too early or too late\n",
        "*   Low product quality or machine failure\n",
        "\n",
        "\n",
        "\n",
        "🔒 Note: Rewards are clipped to the range [-1.0, 1.0] to improve training stability.\n",
        "\n",
        "🚦 Starting State\n",
        "\n",
        "\n",
        "*   Machine Health:\n",
        "Drawn from a normal distribution ~𝓝(0.9, 0.05), then clipped to the range [0.7, 1.0].\n",
        "*   Product Quality:\n",
        "Sampled uniformly from the range [0.4, 0.7].\n",
        "\n",
        "*   Time Since Maintenance:\n",
        "\n",
        "      70% chance of starting at 0.0\n",
        "\n",
        "      30% chance of a value sampled uniformly from [0.1, 0.3]\n",
        "*   Control Parameters 1 & 2:\n",
        "Sampled uniformly from the range [0.4, 0.6]\n",
        "\n",
        "\n",
        "\n",
        "\n",
        "\n",
        "⛔ Episode Termination(The episode terminates when any of the following conditions are met):\n",
        "\n",
        "\n",
        "*   Machine Health drops to 0.0 (system failure)\n",
        "*   Product Quality falls below 0.4 (product defect)\n",
        "\n",
        "*   Maximum of 300 steps is reached (timeout)\n",
        "*\n",
        "\n",
        "\n",
        "\n",
        "\n",
        "\n",
        "\n",
        "\n",
        "\n",
        "\n",
        "\n",
        "\n"
      ]
    },
    {
      "cell_type": "markdown",
      "metadata": {
        "id": "og59Z62aZJna"
      },
      "source": [
        "Create the environment"
      ]
    },
    {
      "cell_type": "code",
      "execution_count": null,
      "metadata": {
        "id": "tVY05GIhZEMM"
      },
      "outputs": [],
      "source": [
        "env = gym.make(\"MountainCar-v0\", render_mode=\"rgb_array\")"
      ]
    },
    {
      "cell_type": "markdown",
      "metadata": {
        "id": "IEF4P0DAZMAN"
      },
      "source": [
        "Create the model with tuned hyperparameters from the RL Zoo\n",
        "\n",
        "```yaml\n",
        "MountainCar-v0:\n",
        "  n_timesteps: !!float 1.2e5\n",
        "  policy: 'MlpPolicy'\n",
        "  learning_rate: !!float 4e-3\n",
        "  batch_size: 128\n",
        "  buffer_size: 10000\n",
        "  learning_starts: 1000\n",
        "  gamma: 0.98\n",
        "  target_update_interval: 600\n",
        "  train_freq: 16\n",
        "  gradient_steps: 8\n",
        "  exploration_fraction: 0.2\n",
        "  exploration_final_eps: 0.07\n",
        "  policy_kwargs: \"dict(net_arch=[256, 256])\"\n",
        "```"
      ]
    },
    {
      "cell_type": "code",
      "execution_count": null,
      "metadata": {
        "id": "fbEcqWhqgDmH"
      },
      "outputs": [],
      "source": [
        "tensorboard_log = \"data/tb/\""
      ]
    },
    {
      "cell_type": "code",
      "execution_count": null,
      "metadata": {
        "id": "4-1scts3Y1c7"
      },
      "outputs": [],
      "source": [
        "dqn_model = DQN(\n",
        "    \"MlpPolicy\",\n",
        "    env,\n",
        "    verbose=1,\n",
        "    train_freq=16,\n",
        "    gradient_steps=8,\n",
        "    gamma=0.99,\n",
        "    exploration_fraction=0.2,\n",
        "    exploration_final_eps=0.07,\n",
        "    target_update_interval=600,\n",
        "    learning_starts=1000,\n",
        "    buffer_size=10000,\n",
        "    batch_size=128,\n",
        "    learning_rate=4e-3,\n",
        "    policy_kwargs=dict(net_arch=[256, 256]),\n",
        "    tensorboard_log=tensorboard_log,\n",
        "    seed=2,\n",
        ")"
      ]
    },
    {
      "cell_type": "markdown",
      "metadata": {
        "id": "eNoFwsCPZQuz"
      },
      "source": [
        "Evaluate the agent before training"
      ]
    },
    {
      "cell_type": "code",
      "execution_count": null,
      "metadata": {
        "id": "Qn0C7RHyZTHA"
      },
      "outputs": [],
      "source": [
        "mean_reward, std_reward = evaluate_policy(\n",
        "    dqn_model,\n",
        "    dqn_model.get_env(),\n",
        "    deterministic=True,\n",
        "    n_eval_episodes=20,\n",
        ")\n",
        "\n",
        "print(f\"mean_reward:{mean_reward:.2f} +/- {std_reward:.2f}\")"
      ]
    },
    {
      "cell_type": "code",
      "execution_count": null,
      "metadata": {
        "id": "kM0m1NyAgVhR"
      },
      "outputs": [],
      "source": [
        "# Optional: Monitor training in tensorboard\n",
        "# %load_ext tensorboard\n",
        "# %tensorboard --logdir $tensorboard_log"
      ]
    },
    {
      "cell_type": "markdown",
      "metadata": {
        "id": "dUoPUfQ4ZexC"
      },
      "source": [
        "We will first train the agent until convergence and then analyse the learned q-value function."
      ]
    },
    {
      "cell_type": "code",
      "execution_count": null,
      "metadata": {
        "id": "9wKP0gKjZgWZ"
      },
      "outputs": [],
      "source": [
        "dqn_model.learn(int(1.2e5), log_interval=10)"
      ]
    },
    {
      "cell_type": "markdown",
      "metadata": {
        "id": "tI8xh463Zi7M"
      },
      "source": [
        "Evaluate after training, the mean episodic reward should have improved."
      ]
    },
    {
      "cell_type": "code",
      "execution_count": null,
      "metadata": {
        "id": "z952YogYZ8yD"
      },
      "outputs": [],
      "source": [
        "mean_reward, std_reward = evaluate_policy(dqn_model, dqn_model.get_env(), deterministic=True, n_eval_episodes=20)\n",
        "\n",
        "print(f\"mean_reward:{mean_reward:.2f} +/- {std_reward:.2f}\")"
      ]
    },
    {
      "cell_type": "markdown",
      "metadata": {
        "id": "xVm9QPNVwKXN"
      },
      "source": [
        "### Prepare video recording"
      ]
    },
    {
      "cell_type": "code",
      "execution_count": null,
      "metadata": {
        "id": "MPyfQxD5z26J"
      },
      "outputs": [],
      "source": [
        "# Set up fake display; otherwise rendering will fail\n",
        "import os\n",
        "os.system(\"Xvfb :1 -screen 0 1024x768x24 &\")\n",
        "os.environ['DISPLAY'] = ':1'"
      ]
    },
    {
      "cell_type": "code",
      "execution_count": null,
      "metadata": {
        "id": "SLzXxO8VMD6N"
      },
      "outputs": [],
      "source": [
        "import base64\n",
        "from pathlib import Path\n",
        "\n",
        "from IPython import display as ipythondisplay\n",
        "\n",
        "\n",
        "def show_videos(video_path=\"\", prefix=\"\"):\n",
        "    \"\"\"\n",
        "    Taken from https://github.com/eleurent/highway-env\n",
        "\n",
        "    :param video_path: (str) Path to the folder containing videos\n",
        "    :param prefix: (str) Filter the video, showing only the only starting with this prefix\n",
        "    \"\"\"\n",
        "    html = []\n",
        "    for mp4 in Path(video_path).glob(\"{}*.mp4\".format(prefix)):\n",
        "        video_b64 = base64.b64encode(mp4.read_bytes())\n",
        "        html.append(\n",
        "            \"\"\"<video alt=\"{}\" autoplay\n",
        "                    loop controls style=\"height: 400px;\">\n",
        "                    <source src=\"data:video/mp4;base64,{}\" type=\"video/mp4\" />\n",
        "                </video>\"\"\".format(\n",
        "                mp4, video_b64.decode(\"ascii\")\n",
        "            )\n",
        "        )\n",
        "    ipythondisplay.display(ipythondisplay.HTML(data=\"<br>\".join(html)))"
      ]
    },
    {
      "cell_type": "markdown",
      "metadata": {
        "id": "LTRNUfulOGaF"
      },
      "source": [
        "We will record a video using the [VecVideoRecorder](https://stable-baselines.readthedocs.io/en/master/guide/vec_envs.html#vecvideorecorder) wrapper, you will learn about those wrapper in the next notebook."
      ]
    },
    {
      "cell_type": "code",
      "execution_count": null,
      "metadata": {
        "id": "Trag9dQpOIhx"
      },
      "outputs": [],
      "source": [
        "from stable_baselines3.common.vec_env import VecVideoRecorder, DummyVecEnv\n",
        "\n",
        "\n",
        "def record_video(\n",
        "    env_id,\n",
        "    model,\n",
        "    video_length=500,\n",
        "    prefix=\"\",\n",
        "    video_folder=\"videos/\",\n",
        "):\n",
        "    \"\"\"\n",
        "    :param env_id: (str)\n",
        "    :param model: (RL model)\n",
        "    :param video_length: (int)\n",
        "    :param prefix: (str)\n",
        "    :param video_folder: (str)\n",
        "    \"\"\"\n",
        "    eval_env = DummyVecEnv([lambda: gym.make(env_id, render_mode=\"rgb_array\")])\n",
        "    # Start the video at step=0 and record 500 steps\n",
        "    eval_env = VecVideoRecorder(\n",
        "        eval_env,\n",
        "        video_folder=video_folder,\n",
        "        record_video_trigger=lambda step: step == 0,\n",
        "        video_length=video_length,\n",
        "        name_prefix=prefix,\n",
        "    )\n",
        "\n",
        "    obs = eval_env.reset()\n",
        "    for _ in range(video_length):\n",
        "        action, _ = model.predict(obs, deterministic=False)\n",
        "        obs, _, _, _ = eval_env.step(action)\n",
        "\n",
        "    # Close the video recorder\n",
        "    eval_env.close()"
      ]
    },
    {
      "cell_type": "markdown",
      "metadata": {
        "id": "qFiOqKE3aDzI"
      },
      "source": [
        "## Visualize trained agent"
      ]
    },
    {
      "cell_type": "code",
      "execution_count": null,
      "metadata": {
        "id": "MvVGX13xaGbf"
      },
      "outputs": [],
      "source": [
        "record_video(\"MountainCar-v0\", dqn_model, video_length=500, prefix=\"dqn-mountaincar\")"
      ]
    },
    {
      "cell_type": "code",
      "execution_count": null,
      "metadata": {
        "id": "tHaYvk8uaK70"
      },
      "outputs": [],
      "source": [
        "show_videos(\"videos\", prefix=\"dqn\")"
      ]
    },
    {
      "cell_type": "markdown",
      "metadata": {
        "id": "TY00dtf4aRLQ"
      },
      "source": [
        "## Visualize Q-values"
      ]
    },
    {
      "cell_type": "markdown",
      "metadata": {
        "id": "cP3YH2x7rieM"
      },
      "source": [
        "### Exercise (5 minutes): Retrieve q-values\n",
        "\n",
        "The function will be used to retrieve the learned q-values for a given state (`observation` in the code).\n",
        "\n",
        "The q-network from SB3 DQN can be accessed via `model.q_net` and is a PyTorch module (you can therefore call `.forward()` on it).\n",
        "\n",
        "You need to convert the observation to a PyTorch tensor and then convert the resulting q-values to numpy array.\n",
        "\n",
        "Note: It is recommended to use `with th.no_grad():` context to save computation and memory"
      ]
    },
    {
      "cell_type": "code",
      "execution_count": null,
      "metadata": {
        "id": "QiCp8OpCbKZW"
      },
      "outputs": [],
      "source": [
        "def get_q_values(model: DQN, obs: np.ndarray) -> np.ndarray:\n",
        "    \"\"\"\n",
        "    Retrieve Q-values for a given observation.\n",
        "\n",
        "    :param model: a DQN model\n",
        "    :param obs: a single observation\n",
        "    :return: the associated q-values for the given observation\n",
        "    \"\"\"\n",
        "    assert model.get_env().observation_space.contains(obs), f\"Invalid observation of shape {obs.shape}: {obs}\"\n",
        "    ### YOUR CODE HERE\n",
        "    # Retrieve q-values for the given observation and convert them to numpy\n",
        "\n",
        "    ### END OF YOUR CODE\n",
        "    assert isinstance(q_values, np.ndarray), \"The returned q_values is not a numpy array\"\n",
        "    assert q_values.shape == (3,), f\"Wrong shape: (3,) was expected but got {q_values.shape}\"\n",
        "\n",
        "    return q_values"
      ]
    },
    {
      "cell_type": "markdown",
      "metadata": {
        "id": "jcudYVkdbB0e"
      },
      "source": [
        "### Q-values for the initial state\n",
        "\n",
        "Let's reset the environment to start a new episode:"
      ]
    },
    {
      "cell_type": "code",
      "execution_count": null,
      "metadata": {
        "id": "izFixcWgaVe3"
      },
      "outputs": [],
      "source": [
        "obs, _ = env.reset()"
      ]
    },
    {
      "cell_type": "markdown",
      "metadata": {
        "id": "6ouWnFaut0KB"
      },
      "source": [
        "we plot the rendered environment to visualize it"
      ]
    },
    {
      "cell_type": "code",
      "execution_count": null,
      "metadata": {
        "id": "NF1L_1Gfal-g"
      },
      "outputs": [],
      "source": [
        "plt.axis('off')\n",
        "plt.imshow(env.render())"
      ]
    },
    {
      "cell_type": "markdown",
      "metadata": {
        "id": "rtKIGyJ-bEQO"
      },
      "source": [
        "### Exercise (5 minutes): predict taken action according to q-values\n",
        "\n",
        "Using the `get_q_values()` function, retrieve the q-values for the initial observation, print them for each action (\"left\", \"nothing\", \"right\") and print the action that the greedy (deterministic) policy would follow (i.e., the action with the highest q-value for that state)."
      ]
    },
    {
      "cell_type": "code",
      "execution_count": null,
      "metadata": {
        "id": "BPegCYbSuY-f"
      },
      "outputs": [],
      "source": [
        "action_str = [\"Left\", \"Nothing\", \"Right\"]  # action=0 -> go left, action=1 -> do nothing, action=2 -> go right"
      ]
    },
    {
      "cell_type": "code",
      "execution_count": null,
      "metadata": {
        "id": "bv90MTHvaqbV"
      },
      "outputs": [],
      "source": [
        "### YOUR CODE HERE\n",
        "# Retrieve q-values for the initial state\n",
        "# You should use `get_q_values()`\n",
        "\n",
        "### END OF YOUR CODE\n",
        "\n",
        "print(f\"Q-value of the initial state left={q_value_left:.2f} nothing={q_value_nothing:.2f} right={q_value_right:.2f}\")\n",
        "\n",
        "### YOUR CODE HERE\n",
        "# Compute the action taken in the initilal state according to q-values\n",
        "# when following a greedy strategy\n",
        "\n",
        "\n",
        "## END of your code here\n",
        "\n",
        "print(f\"Action taken by the greedy policy in the initial state: {action_str[action]}\")"
      ]
    },
    {
      "cell_type": "markdown",
      "metadata": {
        "id": "ov0UwoBzcaDv"
      },
      "source": [
        "The q-value of the initial state corresponds to how much (discounted) reward the agent expects to get in this episode.\n",
        "\n",
        "We will compare the estimated q-value to the discounted return of the episode."
      ]
    },
    {
      "cell_type": "code",
      "execution_count": null,
      "metadata": {
        "id": "dhhF-GJccVne"
      },
      "outputs": [],
      "source": [
        "initial_q_value = q_values.max()"
      ]
    },
    {
      "cell_type": "markdown",
      "metadata": {
        "id": "JueeSE1xcQpK"
      },
      "source": [
        "## Step until the end of the episode\n",
        "\n"
      ]
    },
    {
      "cell_type": "code",
      "execution_count": null,
      "metadata": {
        "id": "V_OYobAab8SF"
      },
      "outputs": [],
      "source": [
        "episode_rewards = []\n",
        "done = False\n",
        "i = 0\n",
        "\n",
        "while not done:\n",
        "    i += 1\n",
        "\n",
        "    # Display current state\n",
        "    plt.imshow(env.render(mode=\"rgb_array\"))\n",
        "    plt.show()\n",
        "\n",
        "    # Retrieve q-value\n",
        "    q_values = get_q_values(dqn_model, obs)\n",
        "\n",
        "    # Take greedy-action\n",
        "    action, _ = dqn_model.predict(obs, deterministic=True)\n",
        "\n",
        "    print(f\"Q-value of the current state left={q_values[0]:.2f} nothing={q_values[1]:.2f} right={q_values[2]:.2f}\")\n",
        "    print(f\"Action: {action_str[action]}\")\n",
        "\n",
        "    obs, reward, terminated, truncated, info = env.step(action)\n",
        "\n",
        "    done = terminated or truncated\n",
        "\n",
        "    episode_rewards.append(reward)\n"
      ]
    },
    {
      "cell_type": "markdown",
      "metadata": {
        "id": "YBEomET1wkjN"
      },
      "source": [
        "### Exercise (3 minutes): compare estimated initial q-value with actual discounted return\n",
        "\n",
        "Compute the discounted return (sum of discounted reward) of the episode and compare it to the initial estimated q-value.\n",
        "\n",
        "Note: You will need to use the discount factor `dqn_model.gamma`"
      ]
    },
    {
      "cell_type": "code",
      "execution_count": null,
      "metadata": {
        "id": "Om4NNW2VdnM9"
      },
      "outputs": [],
      "source": [
        "sum_discounted_rewards = 0\n",
        "\n",
        "### YOUR CODE HERE\n",
        "# Compute the sum of discounted reward for the last episode\n",
        "# using `episode_rewards` list and `dqn_model.gamma` discount factor\n",
        "\n",
        "### END OF YOUR CODE\n",
        "\n",
        "print(f\"Sum discounted rewards: {sum_discounted_rewards:.2f}, initial q-value {initial_q_value:.2f}\")"
      ]
    },
    {
      "cell_type": "markdown",
      "metadata": {
        "id": "ZloxyPKPg9HX"
      },
      "source": [
        "## Exercise (30 minutes): Double DQN\n",
        "\n",
        "In DQN, the same network is responsible for selecting and estimating the best next action (in the TD-target) and that may lead to over-estimation (the action which q-value is over-estimated will be chosen more often and this slow down training).\n",
        "\n",
        "To reduce over-estimation, double q-learning (and then double DQN) was proposed. It decouples the action selection from the value estimation.\n",
        "\n",
        "Concretely, in DQN, the target q-value is defined as:\n",
        "\n",
        "$$Y^{DQN}_{t} = r_{t+1} + \\gamma{Q}\\left(s_{t+1}, \\arg\\max_{a}Q\\left(s_{t+1}, a; \\mathbb{\\theta}_{target}\\right); \\mathbb{\\theta}_{target}\\right)$$\n",
        "\n",
        "where the target network `q_net_target` with parameters $\\mathbb{\\theta}_{target}$ is used for both action selection and estimation, and can therefore be rewritten:\n",
        "\n",
        "$$Y^{DQN}_{t} = r_{t+1} + \\gamma \\max_{a}{Q}\\left(s_{t+1}, a; \\mathbb{\\theta}_{target}\\right)$$\n",
        "\n",
        "Double DQN uses the online network `q_net` with parameters $\\mathbb{\\theta}_{online}$ to select the action and the target network `q_net_target` to estimate the associated q-values:\n",
        "\n",
        "$$Y^{DoubleDQN}_{t} = r_{t+1} + \\gamma{Q}\\left(s_{t+1}, \\arg\\max_{a}Q\\left(s_{t+1}, a; \\mathbb{\\theta}_{online}\\right); \\mathbb{\\theta}_{target}\\right)$$\n",
        "\n",
        "\n",
        "The goal in this exercise is for you to write the update method for `DoubleDQN`.\n",
        "\n",
        "You will need to:\n",
        "\n",
        "1. Sample replay buffer data using `self.replay_buffer.sample(batch_size)`\n",
        "\n",
        "2. Compute the Double DQN target q-value using the next observations `replay_data.next_observation`, the online network `self.q_net`, the target network `self.q_net_target`, the rewards `replay_data.rewards` and the termination signals `replay_data.dones`. Be careful with the shape of each object ;)\n",
        "\n",
        "3. Compute the current q-value estimates using the online network `self.q_net`, the current observations `replay_data.observations` and the buffer actions `replay_data.actions`\n",
        "\n",
        "4. Compute the loss to train the q-network using L2 or Huber loss (`F.smooth_l1_loss`)\n",
        "\n",
        "\n",
        "Link: https://paperswithcode.com/method/double-q-learning\n",
        "\n",
        "Paper: https://arxiv.org/abs/1509.06461\n",
        "\n"
      ]
    },
    {
      "cell_type": "code",
      "execution_count": null,
      "metadata": {
        "id": "4227ILqjg8b4"
      },
      "outputs": [],
      "source": [
        "from torch.nn import functional as F\n",
        "\n",
        "class DoubleDQN(DQN):\n",
        "    def train(self, gradient_steps: int, batch_size: int = 100) -> None:\n",
        "        # Switch to train mode (this affects batch norm / dropout)\n",
        "        self.policy.set_training_mode(True)\n",
        "        # Update learning rate according to schedule\n",
        "        self._update_learning_rate(self.policy.optimizer)\n",
        "\n",
        "        losses = []\n",
        "        for _ in range(gradient_steps):\n",
        "            ### YOUR CODE HERE\n",
        "            # Sample replay buffer\n",
        "            replay_data = ...\n",
        "\n",
        "            # Do not backpropagate gradient to the target network\n",
        "            with th.no_grad():\n",
        "                # Compute the next Q-values using the target network\n",
        "                next_q_values = ...\n",
        "                # Decouple action selection from value estimation\n",
        "                # Compute q-values for the next observation using the online q net\n",
        "                next_q_values_online = ...\n",
        "                # Select action with online network\n",
        "                next_actions_online = ...\n",
        "                # Estimate the q-values for the selected actions using target q network\n",
        "                next_q_values = ...\n",
        "\n",
        "                # 1-step TD target\n",
        "                target_q_values = ...\n",
        "\n",
        "            # Get current Q-values estimates\n",
        "            current_q_values = ...\n",
        "\n",
        "            # Retrieve the q-values for the actions from the replay buffer\n",
        "            current_q_values = th.gather(current_q_values, dim=1, index=replay_data.actions.long())\n",
        "\n",
        "            # Check the shape\n",
        "            assert current_q_values.shape == target_q_values.shape\n",
        "\n",
        "            # Compute loss (L2 or Huber loss)\n",
        "            loss = ...\n",
        "\n",
        "            ### END OF YOUR CODE\n",
        "\n",
        "            losses.append(loss.item())\n",
        "\n",
        "            # Optimize the q-network\n",
        "            self.policy.optimizer.zero_grad()\n",
        "            loss.backward()\n",
        "            # Clip gradient norm\n",
        "            th.nn.utils.clip_grad_norm_(self.policy.parameters(), self.max_grad_norm)\n",
        "            self.policy.optimizer.step()\n",
        "\n",
        "        # Increase update counter\n",
        "        self._n_updates += gradient_steps\n",
        "\n",
        "        self.logger.record(\"train/n_updates\", self._n_updates, exclude=\"tensorboard\")\n",
        "        self.logger.record(\"train/loss\", np.mean(losses))"
      ]
    },
    {
      "cell_type": "markdown",
      "metadata": {
        "id": "dG3fpWWOg_AS"
      },
      "source": [
        "## Monitoring Evolution of the Estimated q-value\n",
        "\n",
        "\n",
        "Here we create a SB3 callback to over-estimate initial q-values and then monitor their evolution over time."
      ]
    },
    {
      "cell_type": "code",
      "execution_count": null,
      "metadata": {
        "id": "BLbQ9RhUpMOl"
      },
      "outputs": [],
      "source": [
        "from torch.nn import functional as F\n",
        "\n",
        "from stable_baselines3.common.callbacks import BaseCallback\n",
        "\n",
        "\n",
        "class MonitorQValueCallback(BaseCallback):\n",
        "    \"\"\"\n",
        "    Callback to monitor the evolution of the q-value\n",
        "    for the initial state.\n",
        "    It allows to artificially over-estimate a q-value for initial states.\n",
        "\n",
        "    \"\"\"\n",
        "    def __init__(self, sample_interval: int = 2500):\n",
        "        super().__init__()\n",
        "        self.timesteps = []\n",
        "        self.max_q_values = []\n",
        "        self.sample_interval = sample_interval\n",
        "        n_samples = 512\n",
        "        env = gym.make(\"MountainCar-v0\")\n",
        "        # Sample initial states that will be used to monitor the estimated q-value\n",
        "        self.start_obs = np.array([env.reset() for _ in range(n_samples)])\n",
        "\n",
        "    def _on_training_start(self) -> None:\n",
        "        # Create overestimation\n",
        "        obs = th.tensor(self.start_obs, device=self.model.device).float()\n",
        "        # Over-estimate going left q-value for the initial states\n",
        "        target_q_values = th.ones((len(obs), 1), device=self.model.device).float() * 100\n",
        "\n",
        "        for _ in range(100):\n",
        "            # Get current Q-values estimates\n",
        "            current_q_values = self.model.q_net(obs)\n",
        "\n",
        "            # Over-estimate going left\n",
        "            current_q_values = th.gather(current_q_values, dim=1, index=th.zeros((len(obs), 1), device=self.model.device).long())\n",
        "\n",
        "            loss = F.mse_loss(current_q_values, target_q_values)\n",
        "\n",
        "            # Optimize the policy\n",
        "            self.model.policy.optimizer.zero_grad()\n",
        "            loss.backward()\n",
        "            self.model.policy.optimizer.step()\n",
        "\n",
        "    def _on_step(self) -> bool:\n",
        "        # Sample q-values\n",
        "        if self.n_calls % self.sample_interval == 0:\n",
        "            # Monitor estimated q-values using current model\n",
        "            obs = th.tensor(self.start_obs, device=self.model.device).float()\n",
        "            with th.no_grad():\n",
        "                q_values = self.model.q_net(obs).cpu().numpy()\n",
        "\n",
        "            self.logger.record(\"train/max_q_value\", float(q_values.max()))\n",
        "            self.timesteps.append(self.num_timesteps)\n",
        "            self.max_q_values.append(q_values.max())\n",
        "        return True"
      ]
    },
    {
      "cell_type": "markdown",
      "metadata": {
        "id": "36dtW1c4xQUG"
      },
      "source": [
        "## Evolution of the q-value with initial over-estimation"
      ]
    },
    {
      "cell_type": "markdown",
      "metadata": {
        "id": "j-XTmT6SxdOa"
      },
      "source": [
        "### DQN"
      ]
    },
    {
      "cell_type": "code",
      "execution_count": null,
      "metadata": {
        "id": "ZIo1EDx2xcwZ"
      },
      "outputs": [],
      "source": [
        "dqn_model = DQN(\n",
        "    \"MlpPolicy\",\n",
        "    \"MountainCar-v0\",\n",
        "    verbose=1,\n",
        "    train_freq=16,\n",
        "    gradient_steps=8,\n",
        "    gamma=0.99,\n",
        "    exploration_fraction=0.2,\n",
        "    exploration_final_eps=0.07,\n",
        "    target_update_interval=5000,\n",
        "    learning_starts=1000,\n",
        "    buffer_size=25000,\n",
        "    batch_size=128,\n",
        "    learning_rate=4e-3,\n",
        "    policy_kwargs=dict(net_arch=[256, 256]),\n",
        "    tensorboard_log=tensorboard_log,\n",
        "    seed=102,\n",
        ")"
      ]
    },
    {
      "cell_type": "markdown",
      "metadata": {
        "id": "Vd62HoWsxfBJ"
      },
      "source": [
        "Define the callback"
      ]
    },
    {
      "cell_type": "code",
      "execution_count": null,
      "metadata": {
        "id": "wcULdR48xhH5"
      },
      "outputs": [],
      "source": [
        "monitor_dqn_value_cb = MonitorQValueCallback()"
      ]
    },
    {
      "cell_type": "code",
      "execution_count": null,
      "metadata": {
        "id": "5Z_cFIapxhR7"
      },
      "outputs": [],
      "source": [
        "dqn_model.learn(total_timesteps=int(4e4), callback=monitor_dqn_value_cb)"
      ]
    },
    {
      "cell_type": "markdown",
      "metadata": {
        "id": "NxAGOezBx3GS"
      },
      "source": [
        "### Double DQN"
      ]
    },
    {
      "cell_type": "code",
      "execution_count": null,
      "metadata": {
        "id": "xYNcgKsSegj0"
      },
      "outputs": [],
      "source": [
        "double_q = DoubleDQN(\"MlpPolicy\",\n",
        "            \"MountainCar-v0\",\n",
        "            verbose=1,\n",
        "            train_freq=16,\n",
        "            gradient_steps=8,\n",
        "            gamma=0.99,\n",
        "            exploration_fraction=0.2,\n",
        "            exploration_final_eps=0.07,\n",
        "            target_update_interval=5000,\n",
        "            learning_starts=1000,\n",
        "            buffer_size=25000,\n",
        "            batch_size=128,\n",
        "            learning_rate=4e-3,\n",
        "            policy_kwargs=dict(net_arch=[256, 256]),\n",
        "            tensorboard_log=tensorboard_log,\n",
        "            seed=102)"
      ]
    },
    {
      "cell_type": "code",
      "execution_count": null,
      "metadata": {
        "id": "JWhQTCXQyBJZ"
      },
      "outputs": [],
      "source": [
        "monitor_double_q_value_cb = MonitorQValueCallback()"
      ]
    },
    {
      "cell_type": "code",
      "execution_count": null,
      "metadata": {
        "id": "mvveywQUkEpW"
      },
      "outputs": [],
      "source": [
        "double_q.learn(int(4e4), log_interval=10, callback=monitor_double_q_value_cb)"
      ]
    },
    {
      "cell_type": "markdown",
      "metadata": {
        "id": "rPqcCnbnyIR5"
      },
      "source": [
        "### Evolution of the max q-value for start states over time"
      ]
    },
    {
      "cell_type": "code",
      "execution_count": null,
      "metadata": {
        "id": "jNeKzUoaa6_K"
      },
      "outputs": [],
      "source": [
        "plt.figure(figsize=(6, 3), dpi=200)\n",
        "plt.title(\"Evolution of max q-value for start states over time\")\n",
        "plt.plot(monitor_dqn_value_cb.timesteps, monitor_dqn_value_cb.max_q_values, label=\"DQN\")\n",
        "plt.plot(monitor_double_q_value_cb.timesteps, monitor_double_q_value_cb.max_q_values, label=\"Double DQN\")\n",
        "plt.legend()"
      ]
    },
    {
      "cell_type": "code",
      "execution_count": null,
      "metadata": {
        "id": "WqRixViAv6gT"
      },
      "outputs": [],
      "source": []
    }
  ],
  "metadata": {
    "colab": {
      "collapsed_sections": [
        "xVm9QPNVwKXN"
      ],
      "name": "dqn_sb3.ipynb",
      "provenance": [],
      "include_colab_link": true
    },
    "kernelspec": {
      "display_name": "Python 3 (ipykernel)",
      "language": "python",
      "name": "python3"
    },
    "language_info": {
      "codemirror_mode": {
        "name": "ipython",
        "version": 3
      },
      "file_extension": ".py",
      "mimetype": "text/x-python",
      "name": "python",
      "nbconvert_exporter": "python",
      "pygments_lexer": "ipython3",
      "version": "3.11.0"
    }
  },
  "nbformat": 4,
  "nbformat_minor": 0
}